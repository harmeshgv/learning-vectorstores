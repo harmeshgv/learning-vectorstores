{
 "cells": [
  {
   "cell_type": "code",
   "execution_count": 1,
   "id": "0cba9ebe",
   "metadata": {},
   "outputs": [],
   "source": [
    "import chromadb"
   ]
  },
  {
   "cell_type": "code",
   "execution_count": 25,
   "id": "763082e1",
   "metadata": {},
   "outputs": [],
   "source": [
    "chroma_client = chromadb.PersistentClient(path='./vectordb')"
   ]
  },
  {
   "cell_type": "code",
   "execution_count": 26,
   "id": "68eae2a5",
   "metadata": {},
   "outputs": [],
   "source": [
    "collection = chroma_client.get_or_create_collection(name=\"documents\")"
   ]
  },
  {
   "cell_type": "code",
   "execution_count": 27,
   "id": "6e676246",
   "metadata": {},
   "outputs": [],
   "source": [
    "collection.add(\n",
    "  documents=[\n",
    "    \"this is a document about pineapple\",\n",
    "    \"this is a document about oranges\"\n",
    "  ],\n",
    "  ids=[\"id1\", \"id2\"]\n",
    ")"
   ]
  },
  {
   "cell_type": "code",
   "execution_count": 5,
   "id": "d8346990",
   "metadata": {},
   "outputs": [
    {
     "name": "stdout",
     "output_type": "stream",
     "text": [
      "{'data': None,\n",
      " 'distances': [[1.0404009819030762]],\n",
      " 'documents': [['this is a document about pineapple']],\n",
      " 'embeddings': None,\n",
      " 'ids': [['id1']],\n",
      " 'included': ['metadatas', 'documents', 'distances'],\n",
      " 'metadatas': [[None]],\n",
      " 'uris': None}\n"
     ]
    }
   ],
   "source": [
    "from pprint import pprint\n",
    "results = collection.query(\n",
    "  query_texts=[\"This is a query document about hawaii\"], # chroma will emvbed this for me\n",
    "  n_results =2,  # number of results to return\n",
    "   where_document={'$contains' : 'pineapple'} \n",
    ")\n",
    "pprint(results)"
   ]
  },
  {
   "cell_type": "code",
   "execution_count": 6,
   "id": "1ccacb53",
   "metadata": {},
   "outputs": [
    {
     "data": {
      "text/html": [
       "<div><style>\n",
       ".dataframe > thead > tr,\n",
       ".dataframe > tbody > tr {\n",
       "  text-align: right;\n",
       "  white-space: pre-wrap;\n",
       "}\n",
       "</style>\n",
       "<small>shape: (5, 5)</small><table border=\"1\" class=\"dataframe\"><thead><tr><th>index</th><th>Article</th><th>Date</th><th>Heading</th><th>NewsType</th></tr><tr><td>u32</td><td>str</td><td>str</td><td>str</td><td>str</td></tr></thead><tbody><tr><td>1</td><td>&quot;KARACHI: The Sindh government …</td><td>&quot;1/1/2015&quot;</td><td>&quot;sindh govt decides to cut publ…</td><td>&quot;business&quot;</td></tr><tr><td>2</td><td>&quot;HONG KONG: Asian markets start…</td><td>&quot;1/2/2015&quot;</td><td>&quot;asia stocks up in new year tra…</td><td>&quot;business&quot;</td></tr><tr><td>3</td><td>&quot;HONG KONG:&nbsp;&nbsp;Hong Kong shares o…</td><td>&quot;1/5/2015&quot;</td><td>&quot;hong kong stocks open 0.66 per…</td><td>&quot;business&quot;</td></tr><tr><td>4</td><td>&quot;HONG KONG: Asian markets tumbl…</td><td>&quot;1/6/2015&quot;</td><td>&quot;asian stocks sink euro near ni…</td><td>&quot;business&quot;</td></tr><tr><td>5</td><td>&quot;NEW YORK: US oil prices Monday…</td><td>&quot;1/6/2015&quot;</td><td>&quot;us oil prices slip below 50 a …</td><td>&quot;business&quot;</td></tr></tbody></table></div>"
      ],
      "text/plain": [
       "shape: (5, 5)\n",
       "┌───────┬─────────────────────────────────┬──────────┬─────────────────────────────────┬──────────┐\n",
       "│ index ┆ Article                         ┆ Date     ┆ Heading                         ┆ NewsType │\n",
       "│ ---   ┆ ---                             ┆ ---      ┆ ---                             ┆ ---      │\n",
       "│ u32   ┆ str                             ┆ str      ┆ str                             ┆ str      │\n",
       "╞═══════╪═════════════════════════════════╪══════════╪═════════════════════════════════╪══════════╡\n",
       "│ 1     ┆ KARACHI: The Sindh government … ┆ 1/1/2015 ┆ sindh govt decides to cut publ… ┆ business │\n",
       "│ 2     ┆ HONG KONG: Asian markets start… ┆ 1/2/2015 ┆ asia stocks up in new year tra… ┆ business │\n",
       "│ 3     ┆ HONG KONG:  Hong Kong shares o… ┆ 1/5/2015 ┆ hong kong stocks open 0.66 per… ┆ business │\n",
       "│ 4     ┆ HONG KONG: Asian markets tumbl… ┆ 1/6/2015 ┆ asian stocks sink euro near ni… ┆ business │\n",
       "│ 5     ┆ NEW YORK: US oil prices Monday… ┆ 1/6/2015 ┆ us oil prices slip below 50 a … ┆ business │\n",
       "└───────┴─────────────────────────────────┴──────────┴─────────────────────────────────┴──────────┘"
      ]
     },
     "execution_count": 6,
     "metadata": {},
     "output_type": "execute_result"
    }
   ],
   "source": [
    "import polars as pl\n",
    "articles = pl.read_csv('./archive/Articles.csv', encoding='ISO-8859-1').with_row_index(offset=1)\n",
    "articles.head()"
   ]
  },
  {
   "cell_type": "code",
   "execution_count": 7,
   "id": "032b9cca",
   "metadata": {},
   "outputs": [
    {
     "name": "stderr",
     "output_type": "stream",
     "text": [
      "/home/mcqueen/Documents/chroma-playground/.venv/lib/python3.11/site-packages/tqdm/auto.py:21: TqdmWarning: IProgress not found. Please update jupyter and ipywidgets. See https://ipywidgets.readthedocs.io/en/stable/user_install.html\n",
      "  from .autonotebook import tqdm as notebook_tqdm\n"
     ]
    },
    {
     "name": "stdout",
     "output_type": "stream",
     "text": [
      "Embedding shape: (1, 384)\n"
     ]
    }
   ],
   "source": [
    "from sentence_transformers import SentenceTransformer\n",
    "\n",
    "model = SentenceTransformer(\"all-MiniLM-L6-v2\")\n",
    "\n",
    "texts = [\"Hello world\"]\n",
    "embeddings = model.encode(texts)\n",
    "\n",
    "print(\"Embedding shape:\", embeddings.shape)  # (1, 384)\n"
   ]
  },
  {
   "cell_type": "code",
   "execution_count": 8,
   "id": "39d9e237",
   "metadata": {},
   "outputs": [
    {
     "data": {
      "text/plain": [
       "2692"
      ]
     },
     "execution_count": 8,
     "metadata": {},
     "output_type": "execute_result"
    }
   ],
   "source": [
    "len(articles)"
   ]
  },
  {
   "cell_type": "code",
   "execution_count": 9,
   "id": "34341020",
   "metadata": {},
   "outputs": [],
   "source": [
    "N = 50\n",
    "articles_demo = articles[:N]"
   ]
  },
  {
   "cell_type": "code",
   "execution_count": 10,
   "id": "58110eed",
   "metadata": {},
   "outputs": [],
   "source": [
    "articles_list = articles_demo['Article'][:].to_list()"
   ]
  },
  {
   "cell_type": "code",
   "execution_count": 11,
   "id": "7cf80d06",
   "metadata": {},
   "outputs": [],
   "source": [
    "vectors = model.encode(articles_list)"
   ]
  },
  {
   "cell_type": "code",
   "execution_count": 14,
   "id": "ee98c0c9",
   "metadata": {},
   "outputs": [],
   "source": [
    "ids = [f\"id{x}\" for x in articles_demo['index'][:].to_list()]"
   ]
  },
  {
   "cell_type": "code",
   "execution_count": 15,
   "id": "e5ecb9ee",
   "metadata": {},
   "outputs": [],
   "source": [
    "collection = chroma_client.get_or_create_collection(name=\"articles\")"
   ]
  },
  {
   "cell_type": "code",
   "execution_count": 17,
   "id": "1aeae7fc",
   "metadata": {},
   "outputs": [],
   "source": [
    "collection.add(\n",
    "  documents=articles_list,\n",
    "  ids=ids,\n",
    "  embeddings = vectors,\n",
    ")"
   ]
  },
  {
   "cell_type": "code",
   "execution_count": 23,
   "id": "5be1ee5a",
   "metadata": {},
   "outputs": [
    {
     "data": {
      "text/plain": [
       "'ISLAMABAD: In a move to give relief to consumers, sources in the Finance Ministry said on Tuesday that the price of petrol and petroleum products are expected to decrease further from February 1.According to sources, the price of petrol is expected to be slashed by Rs 10 per litre, High Speed Diesel by Rs 8.50 per litre, Light Diesel by Rs 11 per litre, HOBC by Rs 14 per litre, and Kerosene by Rs 12 per litre.Global crude oil prices have fallen by 50 percent since June 2014, and to provide consistent relief to consumers, the Pakistan government has decreased the price of petrol by Rs 29 since the last four months and brought the price of Diesel down by Rs 23 in the same time frame.Fuel crisis in the country began last week when Pakistan State Oil (PSO) was forced to slash imports because banks refused to extend any more credit to the government-owned company, which supplies 80 percent of the country´s oil.The shortfall led to long queues of angry motorists at petrol stations, though these have since dissipated as fuel supplies have reached the pumps. \\n\\n\\n\\n\\n\\n\\n\\n\\n\\n\\n'"
      ]
     },
     "execution_count": 23,
     "metadata": {},
     "output_type": "execute_result"
    }
   ],
   "source": [
    "articles[23]['Article'][0]"
   ]
  },
  {
   "cell_type": "code",
   "execution_count": 24,
   "id": "ec3c165b",
   "metadata": {},
   "outputs": [
    {
     "data": {
      "text/plain": [
       "{'ids': [['id24', 'id29']],\n",
       " 'embeddings': None,\n",
       " 'documents': [['ISLAMABAD: In a move to give relief to consumers, sources in the Finance Ministry said on Tuesday that the price of petrol and petroleum products are expected to decrease further from February 1.According to sources, the price of petrol is expected to be slashed by Rs 10 per litre, High Speed Diesel by Rs 8.50 per litre, Light Diesel by Rs 11 per litre, HOBC by Rs 14 per litre, and Kerosene by Rs 12 per litre.Global crude oil prices have fallen by 50 percent since June 2014, and to provide consistent relief to consumers, the Pakistan government has decreased the price of petrol by Rs 29 since the last four months and brought the price of Diesel down by Rs 23 in the same time frame.Fuel crisis in the country began last week when Pakistan State Oil (PSO) was forced to slash imports because banks refused to extend any more credit to the government-owned company, which supplies 80 percent of the country´s oil.The shortfall led to long queues of angry motorists at petrol stations, though these have since dissipated as fuel supplies have reached the pumps. \\n\\n\\n\\n\\n\\n\\n\\n\\n\\n\\n',\n",
       "   'ISLAMABAD:  Federal Minister for Finance Ishaq Dar on Saturday announced a five percent increase in the General Sales Tax (GST) on petroleum products.Dar said that the increment would enable a recovery of 12 billion rupees.The minister, however, went on to say that the ministry would still face a loss of 40 billion rupees.Earlier today, Prime Minister Nawaz Sharif announced a decrease in the price of petroleum products.Petrol has been decreased by Rs 7.99, Hi-Octane by Rs 11.82, Light Diesel by Rs 9.56 and kerosene oil by Rs 10.48 per litre. \\n\\n\\n\\n\\n\\n\\n\\n\\n\\n\\n']],\n",
       " 'uris': None,\n",
       " 'included': ['metadatas', 'documents', 'distances'],\n",
       " 'data': None,\n",
       " 'metadatas': [[None, None]],\n",
       " 'distances': [[0.7870054244995117, 0.8149935603141785]]}"
      ]
     },
     "execution_count": 24,
     "metadata": {},
     "output_type": "execute_result"
    }
   ],
   "source": [
    "query = 'the price of petrol and petroleum products are expected to?'\n",
    "query_embeddings = model.encode([query])\n",
    "collection.query(\n",
    "  query_embeddings=query_embeddings,\n",
    "  n_results = 2\n",
    ")"
   ]
  },
  {
   "cell_type": "code",
   "execution_count": null,
   "id": "aed0596d",
   "metadata": {},
   "outputs": [],
   "source": []
  }
 ],
 "metadata": {
  "kernelspec": {
   "display_name": ".venv",
   "language": "python",
   "name": "python3"
  },
  "language_info": {
   "codemirror_mode": {
    "name": "ipython",
    "version": 3
   },
   "file_extension": ".py",
   "mimetype": "text/x-python",
   "name": "python",
   "nbconvert_exporter": "python",
   "pygments_lexer": "ipython3",
   "version": "3.11.9"
  }
 },
 "nbformat": 4,
 "nbformat_minor": 5
}
